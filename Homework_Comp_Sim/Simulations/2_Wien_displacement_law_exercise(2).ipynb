{
 "cells": [
  {
   "cell_type": "code",
   "execution_count": null,
   "metadata": {},
   "outputs": [],
   "source": [
    "import numpy as np\n",
    "import matplotlib.pyplot as plt"
   ]
  },
  {
   "cell_type": "markdown",
   "metadata": {},
   "source": [
    "## 2. The Wien displacement law\n",
    "\n",
    "<br>\n",
    "\n",
    "Before the Planck radiation law, describing the spectral density of radiation emitted by a black body in equilibrium, was derived, others had noted that peak of the distribution changed as a function of temperature.\n",
    "\n",
    "This is the reason, for example, why a piece of metal glows 'red hot' at certain temperatures, but at very high temperatures glows 'white hot'.\n",
    "\n",
    "Wilhelm Wien derived a relationship between temperature and the wavelength at which the black body spectral radiance peaks\n",
    "$$ \\lambda_{max} = \\frac{b}{T}$$\n",
    "where $b$ is the _Wien displacement constant_.\n",
    "\n",
    "Later, the Planck radiation law gave an exact expression for the black body spectral radiance at a given temperature and wavelength:\n",
    "\n",
    "$$ u_\\lambda (\\lambda, T) = \\frac{2 h c^2}{\\lambda^5} \\frac{1}{e^{h c / \\lambda k_B T} - 1} $$\n",
    "\n",
    "In this exercise, we will use the Planck expression to estimate the value of $b$.\n",
    "\n",
    "\n",
    "\n",
    "<br> \n",
    "### Exercise 1\n",
    "Define a function which returns the Planck radiation law as a function of wavelength and temperature\n",
    "\n",
    "Plot the curve (in the range $10<\\lambda<2000$ nm) for several values of temperature in the range $3000$ K $< 9000$ K ."
   ]
  },
  {
   "cell_type": "code",
   "execution_count": null,
   "metadata": {},
   "outputs": [],
   "source": [
    "from scipy import constants\n",
    "h = constants.Planck\n",
    "c = constants.speed_of_light\n",
    "kB = constants.Boltzmann\n",
    "\n",
    "def planck(wl, temp):\n",
    "    ######"
   ]
  },
  {
   "cell_type": "code",
   "execution_count": null,
   "metadata": {},
   "outputs": [],
   "source": [
    "wls = np.linspace(1E-8, 2E-6, 200)\n",
    "Ts = np.linspace(3000, 9000, 5)\n",
    "\n",
    "fig, ax = plt.subplots()\n",
    "for temp in Ts:\n",
    "    ax.plot(###, ###, label=r'$T='+str(int(temp))+'\\,\\mathrm{K}$')\n",
    "    \n",
    "    #\n",
    "    #       \n",
    "        \n",
    "        \n",
    "ax.legend()\n",
    "plt.show()"
   ]
  },
  {
   "cell_type": "markdown",
   "metadata": {},
   "source": [
    "### Exercise 2\n",
    "Write a function which uses the scipy library to find the wavelength for which the Planck expression is maximum at a given temperature.\n",
    "Replot the figure above, this time also indicating the maximum point\n"
   ]
  },
  {
   "cell_type": "code",
   "execution_count": null,
   "metadata": {},
   "outputs": [],
   "source": [
    "from scipy.optimize import minimize_scalar"
   ]
  },
  {
   "cell_type": "code",
   "execution_count": null,
   "metadata": {},
   "outputs": [],
   "source": [
    "def planck2(wl, temp):\n",
    "    return -planck(wl, temp)\n",
    "\n",
    "def find_max_wl(temp):\n",
    "    fmin= ?????\n",
    "    return fmin.x, -fmin.fun"
   ]
  },
  {
   "cell_type": "code",
   "execution_count": null,
   "metadata": {},
   "outputs": [],
   "source": [
    "##positions of maxima for each T\n"
   ]
  },
  {
   "cell_type": "code",
   "execution_count": null,
   "metadata": {},
   "outputs": [],
   "source": [
    "\n",
    "\n",
    "fig, ax = plt.subplots()\n",
    "for i, temp in enumerate(Ts):\n",
    "    #\n",
    "    #\n",
    "    #\n",
    "    \n",
    "ax.ticklabel_format(axis='both', style='sci', scilimits=(-3,3))\n",
    "ax.set_ylabel('Spectral radiance (kJ)')\n",
    "ax.set_xlabel('Wavelength (nm)')\n",
    "ax.legend()\n",
    "plt.show()"
   ]
  },
  {
   "cell_type": "markdown",
   "metadata": {},
   "source": [
    "## Homework Q2\n",
    "\n",
    "Use the function defined above to generate a longer set of $T$ and corresponding $\\lambda_{max}$ values in the same range.\n",
    "\n",
    "Use least square fitting methods in scipy to estimate the Wien displacement constant $b$.\n",
    "\n",
    "Plot the fit, and compare the esimated and true values of $b$."
   ]
  },
  {
   "cell_type": "code",
   "execution_count": null,
   "metadata": {},
   "outputs": [],
   "source": [
    "from scipy.optimize import leastsq"
   ]
  },
  {
   "cell_type": "code",
   "execution_count": null,
   "metadata": {},
   "outputs": [],
   "source": [
    "T2s = np.linspace(3000, 9000,200)\n",
    "#\n",
    "\n",
    "#max values \n",
    "\n"
   ]
  },
  {
   "cell_type": "code",
   "execution_count": null,
   "metadata": {},
   "outputs": [],
   "source": [
    "#function we are fitting to\n",
    "def fun_to_fit(T, b):\n",
    "    #\n",
    "\n",
    "\n",
    "#define the residuals function (difference between model and data)\n",
    "def residuals(b, wl, T):\n",
    "    #"
   ]
  },
  {
   "cell_type": "code",
   "execution_count": null,
   "metadata": {},
   "outputs": [],
   "source": [
    "#perform the fitting\n",
    "p0 = ?\n",
    "fitting = leastsq(     )\n",
    "print(fitting[0][0], constants.Wien)\n"
   ]
  },
  {
   "cell_type": "code",
   "execution_count": null,
   "metadata": {},
   "outputs": [],
   "source": [
    "fig, ax = plt.subplots()\n",
    "\n",
    "\n",
    "\n",
    "ax.set_ylabel('Peak wavelength (nm)')\n",
    "ax.set_xlabel('Temperature (K)')\n",
    "#ax.legend()\n",
    "plt.show()"
   ]
  },
  {
   "cell_type": "code",
   "execution_count": null,
   "metadata": {},
   "outputs": [],
   "source": []
  }
 ],
 "metadata": {
  "kernelspec": {
   "display_name": "Python 3",
   "language": "python",
   "name": "python3"
  },
  "language_info": {
   "codemirror_mode": {
    "name": "ipython",
    "version": 3
   },
   "file_extension": ".py",
   "mimetype": "text/x-python",
   "name": "python",
   "nbconvert_exporter": "python",
   "pygments_lexer": "ipython3",
   "version": "3.7.4"
  }
 },
 "nbformat": 4,
 "nbformat_minor": 2
}

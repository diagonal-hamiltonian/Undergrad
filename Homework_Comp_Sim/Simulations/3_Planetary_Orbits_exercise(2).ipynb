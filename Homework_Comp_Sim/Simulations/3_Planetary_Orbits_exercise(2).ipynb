{
 "cells": [
  {
   "cell_type": "markdown",
   "metadata": {},
   "source": [
    "## 3. Planetary orbits\n",
    "\n",
    "The gravitational force felt by an object (planet, satellite, star, etc.) of mass $m_1$ at position $r_1$  due to another of mass $m_2$ at $r_2$ is given by\n",
    "\n",
    "$$\\mathbf{F} = - \\frac{G m_1 m_2}{|\\mathbf{r_1} - \\mathbf{r_2}|^3} \\mathbf{r}$$\n",
    "\n",
    "The equations of motion for the first object can then be written:\n",
    "\n",
    "$$ \\frac{\\mathrm{d}^2 x_1}{\\mathrm{d} t^2} = - \\frac{G m_2}{|\\mathbf{r_1} - \\mathbf{r_2}|^3} x_1 $$\n",
    "$$ \\frac{\\mathrm{d}^2 y_1}{\\mathrm{d} t^2} = - \\frac{G m_2}{|\\mathbf{r_1} - \\mathbf{r_2}|^3} y_1 $$\n",
    "\n",
    "In what follows, we will express time in years, distances in AU (astronomical unit $\\sim$ Earth-Sun distance), masses in terms of the solar mass ($M_S$) and use $G \\approx 4 \\pi^2$ to simplify calculations.\n",
    "\n",
    "\n",
    "Revisit the ODE notebook from Lecture 5 -- here we examined how a 2nd order differential equation (the harmonic oscillator) could be solved using scipy.integration.odeint by splitting it into two coupled first order equations.\n",
    "\n",
    "Use this as a basis to solve the differential equations above."
   ]
  },
  {
   "cell_type": "markdown",
   "metadata": {},
   "source": [
    "### Exercise 1\n",
    "For the first case, we look at the case of the earth and the sun.\n",
    "\n",
    "Take $m_1 = 3\\times10^{-6}$ and $m_2 =1.0$.\n",
    "\n",
    "Further assume that the sun remains fixed at the origin -- i.e. $\\mathbf{r_2}(t) = \\mathbf{0}$.\n",
    "\n",
    "Use initial conditions $\\mathbf{r}(t=0) = (1,0)$ and $\\mathbf{v}(t=0) = (0, 2\\pi)$.\n",
    "\n",
    "\n",
    "a) Write the system of 4 coupled differential equations describing the system.\n",
    "\n",
    "b) Write a function evaluating each of the first derivative terms, and which can be passed to odeint to integration this system of ODEs.\n",
    "\n",
    "c) Calculate the orbit trajectory by integrating the system of ODEs with a suitable time step.\n",
    "\n",
    "d) Plot and compare a few orbit with different initial velocities\n",
    "\n"
   ]
  },
  {
   "cell_type": "markdown",
   "metadata": {},
   "source": [
    "_answer to a)_\n",
    "\n",
    "$$ \\frac{\\mathrm{d} x_1}{\\mathrm{d} t} (t)= ?? $$\n",
    "\n",
    "$$ \\frac{\\mathrm{d} y_1}{\\mathrm{d} t} (t) = ?? $$\n",
    "\n",
    "$$ \\frac{\\mathrm{d} v_{x1}}{\\mathrm{d} t} (t) = ??  $$\n",
    "\n",
    "$$ \\frac{\\mathrm{d} v_{y1}}{\\mathrm{d} t} (t) = ?? $$\n"
   ]
  },
  {
   "cell_type": "code",
   "execution_count": null,
   "metadata": {},
   "outputs": [],
   "source": [
    "import numpy as np\n",
    "import matplotlib.pyplot as plt\n",
    "from scipy.integrate import odeint\n",
    "#%matplotlib notebook    -- uncomment if you want to use animations (best to copy the notebook for this!)"
   ]
  },
  {
   "cell_type": "code",
   "execution_count": null,
   "metadata": {},
   "outputs": [],
   "source": [
    "# y contains (x1, y1, vx1, vy1)\n",
    "\n",
    "def dydt(y, t, m2):\n",
    "    output = np.zeros_like(y)\n",
    "    output[0]=??\n",
    "    ??\n",
    "    \n",
    "    \n",
    "    return output         "
   ]
  },
  {
   "cell_type": "code",
   "execution_count": null,
   "metadata": {},
   "outputs": [],
   "source": [
    "y0 =                   \n",
    "t=\n",
    "earthdata = odeint(               ).T   "
   ]
  },
  {
   "cell_type": "code",
   "execution_count": null,
   "metadata": {},
   "outputs": [],
   "source": [
    "otherstarting = [ ???  ]\n",
    "otherdata = []                         #create an empty list\n",
    "\n",
    "for const in otherstarting:\n",
    "    y0a = np.array((1, 0, 0*np.pi, const*np.pi)) \n",
    "    temp = odeint(         ).T\n",
    "    otherdata.append(temp)"
   ]
  },
  {
   "cell_type": "code",
   "execution_count": null,
   "metadata": {},
   "outputs": [],
   "source": [
    "fig, ax = plt.subplots(figsize=(6,6))\n",
    "ax.set_aspect('equal')\n",
    "ax.plot(0, 0, 'o', ms=10, color='orange')\n",
    "ax.plot(earthdata[0], earthdata[1], label=\"Earth orbit\")\n",
    "\n",
    "for i, const in enumerate(otherstarting):\n",
    "    ax.plot(     ???       , label='v_0='+str(const)+r'$\\pi$')\n",
    "ax.set_xlim(???)\n",
    "ax.set_ylim(???)\n",
    "ax.legend()\n",
    "plt.show()"
   ]
  },
  {
   "cell_type": "markdown",
   "metadata": {},
   "source": [
    "### Homework Q3\n",
    "\n",
    "Generalise the function above to allow for an arbitrary number of objects, without any assumptions about their relative masses. (Again assume they are in-plane -- only x and y components vary).\n",
    "\n",
    "<br>\n",
    "\n",
    "a) Create a stable binary star system, with the barycentre at the origin.\n",
    "\n",
    "(_Hint: The distance from the centre of a star to the barycentre is given by  $r_1 = R \\frac{m_2}{m_1+m_2}$, where $R$ is the separation between the two stars_)\n",
    "\n",
    "<br>\n",
    "\n",
    "\n",
    "\n",
    "b) Place a _much_ smaller planet in orbit around the binary system in a quasi-stable orbit (i.e. the orbit remains almost identical over approx. 10 periods)\n",
    "\n",
    "(_Hint: choose an initial radius/velocity consistent with a stable orbit around a single large star at the barycenter_)\n",
    "\n",
    "Create a 2-subplot figure showing i) the orbits of the entire system, and ii) a zoom showing only the binary stars.\n",
    "\n",
    "<br>\n",
    "\n",
    "\n",
    "c) Keeping the other parameters fixed, increase the mass of the planet and track the evolution of the orbits.\n",
    "\n",
    "Show two interesting cases with plots similar to b).\n",
    "\n",
    "\n",
    "\n",
    "<br>\n",
    "\n",
    "\n",
    "Bonus exercise: Create an animation to show the time evolution of the orbits for one of the cases in c)\n",
    "\n",
    "<br>\n"
   ]
  },
  {
   "cell_type": "code",
   "execution_count": null,
   "metadata": {},
   "outputs": [],
   "source": [
    "# Hint use num = number of objects\n",
    "# Organise y as a 4*num element array arranged (x1, x2, ... y1, y2, .... vx1, vx2,....., vy1, vy2,....)\n",
    "# organise output similarly\n",
    "# mass is now a vector with num elements\n",
    "\n",
    "def dydt_gen(y, t, mass, num):\n",
    "   ##\n",
    "    ##\n",
    "    ?"
   ]
  },
  {
   "cell_type": "code",
   "execution_count": null,
   "metadata": {},
   "outputs": [],
   "source": [
    "# Binary stars only \n",
    "num=2\n",
    "masses=[1.0, 1.0]\n",
    "x0s=[  ?]\n",
    "y0s=[ ?]\n",
    "vx0=[ ?]\n",
    "vy0=[ ? ]\n",
    "\n",
    "input0 = np.concatenate((x0s, y0s, vx0, vy0))\n",
    "\n",
    "t=??\n",
    "bin_data = odeint(??, ??, ??, args=(??, ??)).T \n"
   ]
  },
  {
   "cell_type": "code",
   "execution_count": null,
   "metadata": {},
   "outputs": [],
   "source": []
  },
  {
   "cell_type": "code",
   "execution_count": null,
   "metadata": {},
   "outputs": [],
   "source": [
    "fig, ax = ?"
   ]
  },
  {
   "cell_type": "code",
   "execution_count": null,
   "metadata": {},
   "outputs": [],
   "source": [
    "# Binary stars and planet\n",
    "num=3\n",
    "pl_mass=0.91     #mass of planet\n",
    "masses=[1.0, 1.0, pl_mass]\n",
    "\n",
    "pl_dist=6         #starting distance of planet from barycentre of stars\n",
    "x0s=[-1.0, 1.0, 0.0]\n",
    "y0s=[0.0, 0.0, pl_dist]\n",
    "\n",
    "v_init = \n",
    "vx0=[?, ?, v_init]\n",
    "vy0=[?, ?, 0]\n",
    "\n",
    "input0 = np.concatenate((x0s, y0s, vx0, vy0))\n",
    "\n",
    "t_tot, t_steps = 450, 12000\n",
    "\n",
    "t=np.linspace(0,t_tot, t_steps)\n",
    "binp_data = odeint(???????).T \n"
   ]
  },
  {
   "cell_type": "code",
   "execution_count": null,
   "metadata": {},
   "outputs": [],
   "source": [
    "fig, ax = ?"
   ]
  },
  {
   "cell_type": "code",
   "execution_count": null,
   "metadata": {},
   "outputs": [],
   "source": []
  }
 ],
 "metadata": {
  "kernelspec": {
   "display_name": "Python 3",
   "language": "python",
   "name": "python3"
  },
  "language_info": {
   "codemirror_mode": {
    "name": "ipython",
    "version": 3
   },
   "file_extension": ".py",
   "mimetype": "text/x-python",
   "name": "python",
   "nbconvert_exporter": "python",
   "pygments_lexer": "ipython3",
   "version": "3.7.4"
  }
 },
 "nbformat": 4,
 "nbformat_minor": 2
}

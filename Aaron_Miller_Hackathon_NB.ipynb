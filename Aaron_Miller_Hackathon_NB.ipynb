{
  "nbformat": 4,
  "nbformat_minor": 0,
  "metadata": {
    "accelerator": "GPU",
    "colab": {
      "name": "Aaron_Miller_Hackathon_NB.ipynb",
      "provenance": [],
      "collapsed_sections": [
        "qCEfZRyABB5s",
        "EZ_BWdX2BGCz",
        "aokR_alUZmDb",
        "OdfwSbcwNSdT",
        "PHaMXmBiNSdi",
        "Bg9eCnkWNSdp",
        "YhOVyb8INSdu",
        "W0FfoC2rNSd8",
        "vPu2yg2GApNp"
      ],
      "machine_shape": "hm",
      "include_colab_link": true
    },
    "kernelspec": {
      "display_name": "Python 3",
      "language": "python",
      "name": "python3"
    },
    "language_info": {
      "codemirror_mode": {
        "name": "ipython",
        "version": 3
      },
      "file_extension": ".py",
      "mimetype": "text/x-python",
      "name": "python",
      "nbconvert_exporter": "python",
      "pygments_lexer": "ipython3",
      "version": "3.7.3"
    }
  },
  "cells": [
    {
      "cell_type": "markdown",
      "metadata": {
        "id": "view-in-github",
        "colab_type": "text"
      },
      "source": [
        "<a href=\"https://colab.research.google.com/github/diagonal-hamiltonian/repodynamite/blob/master/Aaron_Miller_Hackathon_NB.ipynb\" target=\"_parent\"><img src=\"https://colab.research.google.com/assets/colab-badge.svg\" alt=\"Open In Colab\"/></a>"
      ]
    },
    {
      "cell_type": "markdown",
      "metadata": {
        "id": "UKc-vzWaA2Rn"
      },
      "source": [
        "# Computer Vision Hackathon: using a CNN to catagorise if a slide has a logo or not  - Aaron Miller\n"
      ]
    },
    {
      "cell_type": "markdown",
      "metadata": {
        "id": "qCEfZRyABB5s"
      },
      "source": [
        "### Mounting Google Drive\n"
      ]
    },
    {
      "cell_type": "code",
      "metadata": {
        "id": "oRg1FajJi62b",
        "outputId": "9ea55262-a04b-41d5-8a79-93d29dcd114f",
        "colab": {
          "base_uri": "https://localhost:8080/",
          "height": 34
        }
      },
      "source": [
        "from google.colab import drive\n",
        "drive.mount('/content/drive', force_remount=True) \n",
        " \n",
        "BASE_DIR = '/content/drive/My Drive/Computer Vision/'"
      ],
      "execution_count": null,
      "outputs": [
        {
          "output_type": "stream",
          "text": [
            "Mounted at /content/drive\n"
          ],
          "name": "stdout"
        }
      ]
    },
    {
      "cell_type": "markdown",
      "metadata": {
        "id": "EZ_BWdX2BGCz"
      },
      "source": [
        "### Load libraries"
      ]
    },
    {
      "cell_type": "code",
      "metadata": {
        "id": "cxwaH3JIjJR4",
        "outputId": "5c80f7ca-e759-48d2-eff4-a6329a24bdcf",
        "colab": {
          "base_uri": "https://localhost:8080/"
        }
      },
      "source": [
        "import PIL\n",
        "from PIL import Image\n",
        "#import cv2\n",
        "import os\n",
        "import glob\n",
        "\n",
        "# TensorFlow and tf.keras\n",
        "import tensorflow as tf\n",
        "from tensorflow import keras\n",
        "from keras.models import Sequential\n",
        "from keras.layers import Dense, Dropout, Conv2D, MaxPooling2D, Flatten, BatchNormalization\n",
        "from keras.layers import Activation, Dropout, Flatten, Dense\n",
        "from keras.preprocessing.image import ImageDataGenerator\n",
        "\n",
        "\n",
        "# Helper libraries\n",
        "import numpy as np\n",
        "import pandas as pd\n",
        "import matplotlib.pyplot as plt\n",
        "from sklearn.model_selection import train_test_split\n",
        "from sklearn.metrics import classification_report, accuracy_score\n",
        "\n",
        "\n",
        "%tensorflow_version 1.x"
      ],
      "execution_count": null,
      "outputs": [
        {
          "output_type": "stream",
          "text": [
            "TensorFlow is already loaded. Please restart the runtime to change versions.\n"
          ],
          "name": "stdout"
        }
      ]
    },
    {
      "cell_type": "markdown",
      "metadata": {
        "id": "aokR_alUZmDb"
      },
      "source": [
        "### Building the Keras Model"
      ]
    },
    {
      "cell_type": "code",
      "metadata": {
        "id": "Z01XuKO6un1M",
        "outputId": "14dfbcff-6ab2-4139-b55f-870b6db14420",
        "colab": {
          "base_uri": "https://localhost:8080/",
          "height": 550
        }
      },
      "source": [
        "size = (320,240)\n",
        "input_shape=(320,240,3)\n",
        "\n",
        "model = Sequential()\n",
        "\n",
        "#Using convolutional and pooling layers to extract useful features of the logos\n",
        "model.add(Conv2D(16, (3,3), activation='relu', input_shape=input_shape))\n",
        "model.add(MaxPooling2D(2, 2))\n",
        "model.add(Conv2D(32, (3,3), activation='relu'))\n",
        "model.add(MaxPooling2D(2,2))\n",
        "model.add(Conv2D(64, (3,3), activation='relu'))\n",
        "model.add(MaxPooling2D(2,2))\n",
        "model.add(Conv2D(64, (3,3), activation='relu'))\n",
        "model.add(MaxPooling2D(2,2))\n",
        "\n",
        "#Flattening the tensor so we can use dense layers to preform the classification\n",
        "model.add(Flatten())\n",
        "model.add(Dense(512, activation='relu'))\n",
        "#Final dense layer to preform the classification with an associated probability\n",
        "model.add(Dense(1, activation='sigmoid'))\n",
        "\n",
        "model.summary()"
      ],
      "execution_count": null,
      "outputs": [
        {
          "output_type": "stream",
          "text": [
            "Model: \"sequential\"\n",
            "_________________________________________________________________\n",
            "Layer (type)                 Output Shape              Param #   \n",
            "=================================================================\n",
            "conv2d (Conv2D)              (None, 318, 238, 16)      448       \n",
            "_________________________________________________________________\n",
            "max_pooling2d (MaxPooling2D) (None, 159, 119, 16)      0         \n",
            "_________________________________________________________________\n",
            "conv2d_1 (Conv2D)            (None, 157, 117, 32)      4640      \n",
            "_________________________________________________________________\n",
            "max_pooling2d_1 (MaxPooling2 (None, 78, 58, 32)        0         \n",
            "_________________________________________________________________\n",
            "conv2d_2 (Conv2D)            (None, 76, 56, 64)        18496     \n",
            "_________________________________________________________________\n",
            "max_pooling2d_2 (MaxPooling2 (None, 38, 28, 64)        0         \n",
            "_________________________________________________________________\n",
            "conv2d_3 (Conv2D)            (None, 36, 26, 64)        36928     \n",
            "_________________________________________________________________\n",
            "max_pooling2d_3 (MaxPooling2 (None, 18, 13, 64)        0         \n",
            "_________________________________________________________________\n",
            "flatten (Flatten)            (None, 14976)             0         \n",
            "_________________________________________________________________\n",
            "dense (Dense)                (None, 512)               7668224   \n",
            "_________________________________________________________________\n",
            "dense_1 (Dense)              (None, 1)                 513       \n",
            "=================================================================\n",
            "Total params: 7,729,249\n",
            "Trainable params: 7,729,249\n",
            "Non-trainable params: 0\n",
            "_________________________________________________________________\n"
          ],
          "name": "stdout"
        }
      ]
    },
    {
      "cell_type": "markdown",
      "metadata": {
        "id": "OdfwSbcwNSdT"
      },
      "source": [
        "### Create generators to feed data to the model in batches\n",
        "Loading the images into the notebook in batches."
      ]
    },
    {
      "cell_type": "code",
      "metadata": {
        "id": "id-Wl0lMrioH",
        "outputId": "208f3a63-528d-4e23-d401-08d96e764485",
        "colab": {
          "base_uri": "https://localhost:8080/"
        }
      },
      "source": [
        "train_dir = os.path.join(BASE_DIR, 'Train/') # address for directory storing train data\n",
        "test_dir = os.path.join(BASE_DIR, 'Test/') # address for directory storing test data\n",
        "\n",
        "batch_size = 32\n",
        "EPOCHS = 30\n",
        "\n",
        "# this is the augmentation configuration we will use for training\n",
        "# only rescaling\n",
        "train_datagen = ImageDataGenerator(rescale=1./255,)\n",
        "\n",
        "# this is the augmentation configuration we will use for testing:\n",
        "# only rescaling\n",
        "test_datagen = ImageDataGenerator(rescale=1./255)\n",
        "\n",
        "# this is a generator that will read pictures found in\n",
        "# subfolers of img_dir, and indefinitely generate\n",
        "# batches of image data\n",
        "train_generator = train_datagen.flow_from_directory(\n",
        "        train_dir,  # this is the target directory\n",
        "        target_size=(size[0], size[1]),  # all images will be resized to target size\n",
        "        batch_size=batch_size,\n",
        "        class_mode='binary')  \n",
        "\n",
        "# this is a similar generator, for test data\n",
        "test_generator = test_datagen.flow_from_directory(\n",
        "        test_dir,\n",
        "        target_size=(size[0], size[1]),\n",
        "        batch_size=batch_size,\n",
        "        class_mode='binary')\n"
      ],
      "execution_count": null,
      "outputs": [
        {
          "output_type": "stream",
          "text": [
            "Found 4000 images belonging to 2 classes.\n",
            "Found 1000 images belonging to 2 classes.\n"
          ],
          "name": "stdout"
        }
      ]
    },
    {
      "cell_type": "markdown",
      "metadata": {
        "id": "PHaMXmBiNSdi"
      },
      "source": [
        "### Compile model"
      ]
    },
    {
      "cell_type": "code",
      "metadata": {
        "id": "gdD6LyXcrqJ2"
      },
      "source": [
        "model.compile(optimizer='adam', loss='binary_crossentropy',\n",
        "                   metrics=['accuracy'])"
      ],
      "execution_count": null,
      "outputs": []
    },
    {
      "cell_type": "code",
      "metadata": {
        "id": "OA9eA11IEjIH"
      },
      "source": [
        "STEP_SIZE_TRAIN=train_generator.n // train_generator.batch_size #number of batch iterations before a training epoch is finished.\n",
        "STEP_SIZE_VALID=test_generator.n // test_generator.batch_size "
      ],
      "execution_count": null,
      "outputs": []
    },
    {
      "cell_type": "markdown",
      "metadata": {
        "id": "Bg9eCnkWNSdp"
      },
      "source": [
        "### Train model"
      ]
    },
    {
      "cell_type": "code",
      "metadata": {
        "id": "xxxCEekrruTy",
        "outputId": "8eedcae0-42e6-4beb-8c65-5b80cb7fbce5",
        "colab": {
          "base_uri": "https://localhost:8080/",
          "height": 642
        }
      },
      "source": [
        "history=model.fit_generator(train_generator, steps_per_epoch=STEP_SIZE_TRAIN, epochs=18,\n",
        "                         validation_data=test_generator,\n",
        "                         validation_steps=30)"
      ],
      "execution_count": null,
      "outputs": [
        {
          "output_type": "stream",
          "text": [
            "Epoch 1/18\n",
            "125/125 [==============================] - 62s 494ms/step - loss: 0.6210 - accuracy: 0.7215 - val_loss: 0.5023 - val_accuracy: 0.7729\n",
            "Epoch 2/18\n",
            "125/125 [==============================] - 62s 498ms/step - loss: 0.4562 - accuracy: 0.8183 - val_loss: 0.3277 - val_accuracy: 0.8750\n",
            "Epoch 3/18\n",
            "125/125 [==============================] - 61s 489ms/step - loss: 0.3910 - accuracy: 0.8450 - val_loss: 0.4110 - val_accuracy: 0.8448\n",
            "Epoch 4/18\n",
            "125/125 [==============================] - 61s 489ms/step - loss: 0.3385 - accuracy: 0.8695 - val_loss: 0.4084 - val_accuracy: 0.8542\n",
            "Epoch 5/18\n",
            "125/125 [==============================] - 61s 488ms/step - loss: 0.3470 - accuracy: 0.8648 - val_loss: 0.3236 - val_accuracy: 0.8906\n",
            "Epoch 6/18\n",
            "125/125 [==============================] - 61s 486ms/step - loss: 0.3456 - accuracy: 0.8600 - val_loss: 0.2168 - val_accuracy: 0.9333\n",
            "Epoch 7/18\n",
            "125/125 [==============================] - 62s 495ms/step - loss: 0.2104 - accuracy: 0.9255 - val_loss: 0.1265 - val_accuracy: 0.9583\n",
            "Epoch 8/18\n",
            "125/125 [==============================] - 61s 487ms/step - loss: 0.0898 - accuracy: 0.9712 - val_loss: 0.1944 - val_accuracy: 0.9396\n",
            "Epoch 9/18\n",
            "125/125 [==============================] - 61s 486ms/step - loss: 0.0514 - accuracy: 0.9845 - val_loss: 0.1197 - val_accuracy: 0.9635\n",
            "Epoch 10/18\n",
            "125/125 [==============================] - 61s 484ms/step - loss: 0.0916 - accuracy: 0.9685 - val_loss: 0.1020 - val_accuracy: 0.9750\n",
            "Epoch 11/18\n",
            "125/125 [==============================] - 61s 484ms/step - loss: 0.0429 - accuracy: 0.9865 - val_loss: 0.0678 - val_accuracy: 0.9812\n",
            "Epoch 12/18\n",
            "125/125 [==============================] - 61s 488ms/step - loss: 0.0145 - accuracy: 0.9950 - val_loss: 0.0627 - val_accuracy: 0.9802\n",
            "Epoch 13/18\n",
            "125/125 [==============================] - 60s 479ms/step - loss: 0.0098 - accuracy: 0.9975 - val_loss: 0.0803 - val_accuracy: 0.9771\n",
            "Epoch 14/18\n",
            "125/125 [==============================] - 60s 479ms/step - loss: 0.0068 - accuracy: 0.9980 - val_loss: 0.0687 - val_accuracy: 0.9833\n",
            "Epoch 15/18\n",
            "125/125 [==============================] - 60s 478ms/step - loss: 0.0212 - accuracy: 0.9933 - val_loss: 0.0770 - val_accuracy: 0.9812\n",
            "Epoch 16/18\n",
            "125/125 [==============================] - 60s 476ms/step - loss: 0.0277 - accuracy: 0.9912 - val_loss: 0.0547 - val_accuracy: 0.9833\n",
            "Epoch 17/18\n",
            "125/125 [==============================] - 61s 485ms/step - loss: 0.0079 - accuracy: 0.9977 - val_loss: 0.0968 - val_accuracy: 0.9792\n",
            "Epoch 18/18\n",
            "125/125 [==============================] - 59s 476ms/step - loss: 0.0038 - accuracy: 0.9985 - val_loss: 0.0530 - val_accuracy: 0.9844\n"
          ],
          "name": "stdout"
        }
      ]
    },
    {
      "cell_type": "markdown",
      "metadata": {
        "id": "YhOVyb8INSdu"
      },
      "source": [
        "### Performance summary on Test data\n"
      ]
    },
    {
      "cell_type": "code",
      "metadata": {
        "id": "54gwFKrkb30y",
        "outputId": "cb7d3bf4-9dbe-47fc-943e-0abd3afaf6ef",
        "colab": {
          "base_uri": "https://localhost:8080/",
          "height": 50
        }
      },
      "source": [
        "# evaluate the keras model on test data\n",
        "STEP_SIZE_TEST=test_generator.n // test_generator.batch_size\n",
        "score = model.evaluate_generator(generator=test_generator, steps=STEP_SIZE_TEST)\n",
        "\n",
        "print('Test loss:', score[0])\n",
        "print('Test accuracy:', score[1])"
      ],
      "execution_count": null,
      "outputs": [
        {
          "output_type": "stream",
          "text": [
            "Test loss: 0.05788454785943031\n",
            "Test accuracy: 0.9818548560142517\n"
          ],
          "name": "stdout"
        }
      ]
    },
    {
      "cell_type": "code",
      "metadata": {
        "id": "YnJ40Hb8GuXQ",
        "outputId": "fe5c85c1-5273-4f52-b069-065f28043669",
        "colab": {
          "base_uri": "https://localhost:8080/",
          "height": 295
        }
      },
      "source": [
        "# summarize history for accuracy\n",
        "plt.plot(history.history['accuracy'])\n",
        "plt.plot(history.history['val_accuracy'])\n",
        "plt.title('model accuracy')\n",
        "plt.ylabel('accuracy')\n",
        "plt.xlabel('epoch')\n",
        "plt.legend(['train', 'test'], loc='lower right')\n",
        "plt.show()\n"
      ],
      "execution_count": null,
      "outputs": [
        {
          "output_type": "display_data",
          "data": {
            "image/png": "[encoded data removed]",
            "text/plain": [
              "<Figure size 432x288 with 1 Axes>"
            ]
          },
          "metadata": {
            "tags": [],
            "needs_background": "light"
          }
        }
      ]
    },
    {
      "cell_type": "code",
      "metadata": {
        "id": "lw6FqIaYGwTH",
        "outputId": "ea6bd4f5-aa24-4d64-b0de-1dfedf85e83f",
        "colab": {
          "base_uri": "https://localhost:8080/",
          "height": 295
        }
      },
      "source": [
        "# summarize history for loss\n",
        "plt.plot(history.history['loss'])\n",
        "plt.plot(history.history['val_loss'])\n",
        "plt.title('model loss')\n",
        "plt.ylabel('loss')\n",
        "plt.xlabel('epoch')\n",
        "plt.legend(['train', 'test'], loc='upper right')\n",
        "plt.show()"
      ],
      "execution_count": null,
      "outputs": [
        {
          "output_type": "display_data",
          "data": {
            "image/png": "[encoded data removed]",
            "text/plain": [
              "<Figure size 432x288 with 1 Axes>"
            ]
          },
          "metadata": {
            "tags": [],
            "needs_background": "light"
          }
        }
      ]
    },
    {
      "cell_type": "markdown",
      "metadata": {
        "id": "W0FfoC2rNSd8"
      },
      "source": [
        "### Performance summary on Validation data\n"
      ]
    },
    {
      "cell_type": "code",
      "metadata": {
        "id": "h9WxyYy3ICaZ",
        "outputId": "f2b112ba-0fdc-4520-9be5-f7abeeb6d893",
        "colab": {
          "base_uri": "https://localhost:8080/",
          "height": 67
        }
      },
      "source": [
        "val_dir = os.path.join(BASE_DIR, 'Validation/') # path to validation directory\n",
        "\n",
        "val_datagen = ImageDataGenerator(rescale=1./255) # preprocessing generator\n",
        "val_generator = val_datagen.flow_from_directory(val_dir,\n",
        "                                                target_size=(size[0], size[1]), \n",
        "                                                class_mode='binary',\n",
        "                                                shuffle = False,\n",
        "                                                batch_size=5)\n",
        "\n",
        "filenames = val_generator.filenames\n",
        "nb_samples = len(filenames)\n",
        "\n",
        "y_true_labels = val_generator.classes # true image classes\n",
        "predictions = model.predict_generator(val_generator, verbose=1) # model predicitons\n",
        "\n",
        "val_generator.class_indices"
      ],
      "execution_count": null,
      "outputs": [
        {
          "output_type": "stream",
          "text": [
            "Found 500 images belonging to 2 classes.\n",
            "100/100 [==============================] - 6s 63ms/step\n"
          ],
          "name": "stdout"
        },
        {
          "output_type": "execute_result",
          "data": {
            "text/plain": [
              "{'Logo': 0, 'No_Logo': 1}"
            ]
          },
          "metadata": {
            "tags": []
          },
          "execution_count": 35
        }
      ]
    },
    {
      "cell_type": "code",
      "metadata": {
        "id": "ijtyJHJH3JAC",
        "outputId": "31adfb3f-01e1-4dc1-fe4a-36f83e8f0eff",
        "colab": {
          "base_uri": "https://localhost:8080/",
          "height": 67
        }
      },
      "source": [
        " # percentage in each class\n",
        " pd.Series(val_generator.classes).value_counts()*100/500"
      ],
      "execution_count": null,
      "outputs": [
        {
          "output_type": "execute_result",
          "data": {
            "text/plain": [
              "1    69.2\n",
              "0    30.8\n",
              "dtype: float64"
            ]
          },
          "metadata": {
            "tags": []
          },
          "execution_count": 36
        }
      ]
    },
    {
      "cell_type": "code",
      "metadata": {
        "id": "6s6KkoX98IRB",
        "outputId": "a856a159-6d7b-4033-dea3-b7f1d41ecd77",
        "colab": {
          "base_uri": "https://localhost:8080/",
          "height": 50
        }
      },
      "source": [
        "# evaluate the keras model on unseen data\n",
        "STEP_SIZE_VALID=val_generator.n//val_generator.batch_size\n",
        "score = model.evaluate_generator(generator=val_generator, steps=STEP_SIZE_VALID)\n",
        "\n",
        "print('Validation loss:', score[0])\n",
        "print('Validation accuracy:', score[1])"
      ],
      "execution_count": null,
      "outputs": [
        {
          "output_type": "stream",
          "text": [
            "Validation loss: 0.040161099284887314\n",
            "Validation accuracy: 0.9860000014305115\n"
          ],
          "name": "stdout"
        }
      ]
    },
    {
      "cell_type": "code",
      "metadata": {
        "id": "ST1io-GNJ3fT",
        "outputId": "ba64c185-05f7-4ca9-b660-db6b7db4250a",
        "colab": {
          "base_uri": "https://localhost:8080/",
          "height": 185
        }
      },
      "source": [
        "# classification report\n",
        "\n",
        "y_prediction = [np.round(pred) for pred in predictions]\n",
        "print(accuracy_score(y_true=list(y_true_labels), y_pred=y_prediction))\n",
        "print(classification_report(y_true=list(y_true_labels), y_pred=y_prediction))\n"
      ],
      "execution_count": null,
      "outputs": [
        {
          "output_type": "stream",
          "text": [
            "0.986\n",
            "              precision    recall  f1-score   support\n",
            "\n",
            "           0       1.00      0.95      0.98       154\n",
            "           1       0.98      1.00      0.99       346\n",
            "\n",
            "    accuracy                           0.99       500\n",
            "   macro avg       0.99      0.98      0.98       500\n",
            "weighted avg       0.99      0.99      0.99       500\n",
            "\n"
          ],
          "name": "stdout"
        }
      ]
    },
    {
      "cell_type": "markdown",
      "metadata": {
        "id": "5HpUjD7JM_60"
      },
      "source": [
        "### Predictions on Unlabelled Data\n",
        "\n",
        "*   A probability of 1 means that model thinks there is a slide present\n",
        "*   A probability of 0 means that model thinks there is no slide present\n",
        "\n",
        "\n",
        "\n"
      ]
    },
    {
      "cell_type": "code",
      "metadata": {
        "id": "_zNSZpzPNJYA",
        "outputId": "496d2429-b3b3-4e74-9e0b-dbdb4339ae4a",
        "colab": {
          "base_uri": "https://localhost:8080/",
          "height": 756
        }
      },
      "source": [
        "size = (320,240)\n",
        "\n",
        "unseen_dir = os.path.join(BASE_DIR, 'Unseen Slides/') # path to unseen directory\n",
        "\n",
        "unseen_datagen = ImageDataGenerator(rescale=1./255) # preprocessing generator\n",
        "unseen_generator = unseen_datagen.flow_from_directory(unseen_dir,\n",
        "                                                target_size=(size[0], size[1]), \n",
        "                                                class_mode=None,\n",
        "                                                shuffle = False,\n",
        "                                                batch_size=1)\n",
        "filenames = unseen_generator.filenames\n",
        "unseen_generator.reset()\n",
        "\n",
        "predictions = model.predict_generator(unseen_generator, verbose=1) # model predicitons\n",
        "predictions_df = pd.DataFrame({\"SlideName\": filenames, \"pr\": np.round(1.- predictions[:,0], 3)})\n",
        "\n",
        "predictions_df.sort_values('SlideName').to_csv('/content/drive/My Drive/'+ 'predictions986.csv')\n",
        "predictions_df.sort_values('SlideName').head(20)"
      ],
      "execution_count": null,
      "outputs": [
        {
          "output_type": "stream",
          "text": [
            "Found 500 images belonging to 1 classes.\n",
            "WARNING:tensorflow:From <ipython-input-6-9a7019e1ca94>:14: Model.predict_generator (from tensorflow.python.keras.engine.training) is deprecated and will be removed in a future version.\n",
            "Instructions for updating:\n",
            "Please use Model.predict, which supports generators.\n",
            "500/500 [==============================] - 172s 344ms/step\n"
          ],
          "name": "stdout"
        },
        {
          "output_type": "execute_result",
          "data": {
            "text/html": [
              "<div>\n",
              "<style scoped>\n",
              "    .dataframe tbody tr th:only-of-type {\n",
              "        vertical-align: middle;\n",
              "    }\n",
              "\n",
              "    .dataframe tbody tr th {\n",
              "        vertical-align: top;\n",
              "    }\n",
              "\n",
              "    .dataframe thead th {\n",
              "        text-align: right;\n",
              "    }\n",
              "</style>\n",
              "<table border=\"1\" class=\"dataframe\">\n",
              "  <thead>\n",
              "    <tr style=\"text-align: right;\">\n",
              "      <th></th>\n",
              "      <th>SlideName</th>\n",
              "      <th>pr</th>\n",
              "    </tr>\n",
              "  </thead>\n",
              "  <tbody>\n",
              "    <tr>\n",
              "      <th>0</th>\n",
              "      <td>Unlabelled/Slide1.PNG</td>\n",
              "      <td>0.0</td>\n",
              "    </tr>\n",
              "    <tr>\n",
              "      <th>1</th>\n",
              "      <td>Unlabelled/Slide10.PNG</td>\n",
              "      <td>0.0</td>\n",
              "    </tr>\n",
              "    <tr>\n",
              "      <th>2</th>\n",
              "      <td>Unlabelled/Slide100.PNG</td>\n",
              "      <td>0.0</td>\n",
              "    </tr>\n",
              "    <tr>\n",
              "      <th>3</th>\n",
              "      <td>Unlabelled/Slide101.PNG</td>\n",
              "      <td>0.0</td>\n",
              "    </tr>\n",
              "    <tr>\n",
              "      <th>4</th>\n",
              "      <td>Unlabelled/Slide102.PNG</td>\n",
              "      <td>0.0</td>\n",
              "    </tr>\n",
              "    <tr>\n",
              "      <th>5</th>\n",
              "      <td>Unlabelled/Slide103.PNG</td>\n",
              "      <td>0.0</td>\n",
              "    </tr>\n",
              "    <tr>\n",
              "      <th>6</th>\n",
              "      <td>Unlabelled/Slide104.PNG</td>\n",
              "      <td>0.0</td>\n",
              "    </tr>\n",
              "    <tr>\n",
              "      <th>7</th>\n",
              "      <td>Unlabelled/Slide105.PNG</td>\n",
              "      <td>1.0</td>\n",
              "    </tr>\n",
              "    <tr>\n",
              "      <th>8</th>\n",
              "      <td>Unlabelled/Slide106.PNG</td>\n",
              "      <td>1.0</td>\n",
              "    </tr>\n",
              "    <tr>\n",
              "      <th>9</th>\n",
              "      <td>Unlabelled/Slide107.PNG</td>\n",
              "      <td>0.0</td>\n",
              "    </tr>\n",
              "    <tr>\n",
              "      <th>10</th>\n",
              "      <td>Unlabelled/Slide108.PNG</td>\n",
              "      <td>0.0</td>\n",
              "    </tr>\n",
              "    <tr>\n",
              "      <th>11</th>\n",
              "      <td>Unlabelled/Slide109.PNG</td>\n",
              "      <td>0.0</td>\n",
              "    </tr>\n",
              "    <tr>\n",
              "      <th>12</th>\n",
              "      <td>Unlabelled/Slide11.PNG</td>\n",
              "      <td>1.0</td>\n",
              "    </tr>\n",
              "    <tr>\n",
              "      <th>13</th>\n",
              "      <td>Unlabelled/Slide110.PNG</td>\n",
              "      <td>1.0</td>\n",
              "    </tr>\n",
              "    <tr>\n",
              "      <th>14</th>\n",
              "      <td>Unlabelled/Slide111.PNG</td>\n",
              "      <td>0.0</td>\n",
              "    </tr>\n",
              "    <tr>\n",
              "      <th>15</th>\n",
              "      <td>Unlabelled/Slide112.PNG</td>\n",
              "      <td>0.0</td>\n",
              "    </tr>\n",
              "    <tr>\n",
              "      <th>16</th>\n",
              "      <td>Unlabelled/Slide113.PNG</td>\n",
              "      <td>0.0</td>\n",
              "    </tr>\n",
              "    <tr>\n",
              "      <th>17</th>\n",
              "      <td>Unlabelled/Slide114.PNG</td>\n",
              "      <td>0.0</td>\n",
              "    </tr>\n",
              "    <tr>\n",
              "      <th>18</th>\n",
              "      <td>Unlabelled/Slide115.PNG</td>\n",
              "      <td>0.0</td>\n",
              "    </tr>\n",
              "    <tr>\n",
              "      <th>19</th>\n",
              "      <td>Unlabelled/Slide116.PNG</td>\n",
              "      <td>0.0</td>\n",
              "    </tr>\n",
              "  </tbody>\n",
              "</table>\n",
              "</div>"
            ],
            "text/plain": [
              "                  SlideName   pr\n",
              "0     Unlabelled/Slide1.PNG  0.0\n",
              "1    Unlabelled/Slide10.PNG  0.0\n",
              "2   Unlabelled/Slide100.PNG  0.0\n",
              "3   Unlabelled/Slide101.PNG  0.0\n",
              "4   Unlabelled/Slide102.PNG  0.0\n",
              "5   Unlabelled/Slide103.PNG  0.0\n",
              "6   Unlabelled/Slide104.PNG  0.0\n",
              "7   Unlabelled/Slide105.PNG  1.0\n",
              "8   Unlabelled/Slide106.PNG  1.0\n",
              "9   Unlabelled/Slide107.PNG  0.0\n",
              "10  Unlabelled/Slide108.PNG  0.0\n",
              "11  Unlabelled/Slide109.PNG  0.0\n",
              "12   Unlabelled/Slide11.PNG  1.0\n",
              "13  Unlabelled/Slide110.PNG  1.0\n",
              "14  Unlabelled/Slide111.PNG  0.0\n",
              "15  Unlabelled/Slide112.PNG  0.0\n",
              "16  Unlabelled/Slide113.PNG  0.0\n",
              "17  Unlabelled/Slide114.PNG  0.0\n",
              "18  Unlabelled/Slide115.PNG  0.0\n",
              "19  Unlabelled/Slide116.PNG  0.0"
            ]
          },
          "metadata": {
            "tags": []
          },
          "execution_count": 6
        }
      ]
    },
    {
      "cell_type": "markdown",
      "metadata": {
        "id": "vPu2yg2GApNp"
      },
      "source": [
        "# Saving and loading model's"
      ]
    },
    {
      "cell_type": "code",
      "metadata": {
        "id": "82NnIxc8oyO0"
      },
      "source": [
        "#!ls '/content/drive/My Drive/Colab Notebooks'\n"
      ],
      "execution_count": null,
      "outputs": []
    },
    {
      "cell_type": "code",
      "metadata": {
        "id": "rNfskeHhoyO7"
      },
      "source": [
        "#model.save('/content/drive/My Drive/Colab Notebooks/A98.6')"
      ],
      "execution_count": null,
      "outputs": []
    },
    {
      "cell_type": "code",
      "metadata": {
        "id": "F5VhUKwVoyO9"
      },
      "source": [
        "model = keras.models.load_model('/content/drive/My Drive/Colab Notebooks/A98.6')"
      ],
      "execution_count": null,
      "outputs": []
    }
  ]
}
